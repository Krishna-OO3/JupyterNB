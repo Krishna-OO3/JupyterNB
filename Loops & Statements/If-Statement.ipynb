{
 "cells": [
  {
   "cell_type": "code",
   "execution_count": 5,
   "id": "e9352966",
   "metadata": {},
   "outputs": [
    {
     "name": "stdout",
     "output_type": "stream",
     "text": [
      "Method 1:\n",
      "The counter is:  0\n",
      "The counter is:  1\n",
      "The counter is:  2\n",
      "The counter is:  3\n",
      "The counter is:  4\n",
      "The counter is:  5\n",
      "The counter is:  6\n",
      "The counter is:  7\n",
      "The counter is:  8\n",
      "The counter is:  9\n",
      "The counter is:  10\n",
      "The counter is:  11\n",
      "\n",
      "Method 2:\n",
      "The count is:  0\n",
      "The count is:  1\n",
      "The count is:  2\n",
      "The count is:  3\n",
      "The count is:  4\n",
      "The count is:  5\n",
      "The count is:  6\n",
      "The count is:  7\n",
      "The count is:  8\n",
      "The count is:  9\n",
      "The count is:  10\n",
      "The count is:  11\n"
     ]
    }
   ],
   "source": [
    "# for methods examples\n",
    "\n",
    "# method 1\n",
    "counter = 0\n",
    "print(\"Method 1:\")\n",
    "for counter in range(12):\n",
    "    print(\"The counter is: \",counter)\n",
    "\n",
    "print(\"\")\n",
    "\n",
    "# method 2\n",
    "mycount = [0,1,2,3,4,5,6,7,8,9,10,11]\n",
    "print(\"Method 2:\")\n",
    "for i in mycount:\n",
    "    print(\"The count is: \", i)"
   ]
  },
  {
   "cell_type": "markdown",
   "id": "63e6149d",
   "metadata": {},
   "source": [
    "-------"
   ]
  },
  {
   "cell_type": "code",
   "execution_count": 6,
   "id": "a070744c",
   "metadata": {},
   "outputs": [],
   "source": [
    "# -2 ----- -1 ----- 0 ----- 1 ----- 2\n",
    "# If statments"
   ]
  },
  {
   "cell_type": "code",
   "execution_count": 7,
   "id": "b31c60dd",
   "metadata": {},
   "outputs": [],
   "source": [
    "import numpy as np\n",
    "from numpy.random import randn\n"
   ]
  },
  {
   "cell_type": "code",
   "execution_count": 11,
   "id": "ed9ea283",
   "metadata": {},
   "outputs": [
    {
     "data": {
      "text/plain": [
       "0.6428766948937253"
      ]
     },
     "execution_count": 11,
     "metadata": {},
     "output_type": "execute_result"
    }
   ],
   "source": [
    "randn()"
   ]
  },
  {
   "cell_type": "code",
   "execution_count": 21,
   "id": "326dc437",
   "metadata": {},
   "outputs": [
    {
     "name": "stdout",
     "output_type": "stream",
     "text": [
      "1.217255588700414\n",
      "Greater than 1\n"
     ]
    }
   ],
   "source": [
    "answer = None # similar to Null in general programming\n",
    "x = randn()\n",
    "if x > 1:\n",
    "    answer = \"Greater than 1\"\n",
    "print(x)\n",
    "print(answer)"
   ]
  },
  {
   "cell_type": "code",
   "execution_count": 31,
   "id": "f124d1e4",
   "metadata": {},
   "outputs": [
    {
     "name": "stdout",
     "output_type": "stream",
     "text": [
      "2.106832644217124\n",
      "Greater than 1\n"
     ]
    }
   ],
   "source": [
    "answer = None # similar to Null in general programming\n",
    "x = randn()\n",
    "if x > 1:\n",
    "    answer = \"Greater than 1\"\n",
    "else:\n",
    "    answer = \"Less than 1\"\n",
    "print(x)\n",
    "print(answer)"
   ]
  },
  {
   "cell_type": "markdown",
   "id": "9510d162",
   "metadata": {},
   "source": [
    "---"
   ]
  },
  {
   "cell_type": "code",
   "execution_count": 32,
   "id": "7bdf752c",
   "metadata": {},
   "outputs": [],
   "source": [
    "# nested statements"
   ]
  },
  {
   "cell_type": "code",
   "execution_count": 43,
   "id": "c5114b7d",
   "metadata": {},
   "outputs": [
    {
     "name": "stdout",
     "output_type": "stream",
     "text": [
      "1.6891665535247384\n",
      "Greater than 1\n"
     ]
    }
   ],
   "source": [
    "answer = None # similar to Null in general programming\n",
    "x = randn()\n",
    "if x > 1:\n",
    "    answer = \"Greater than 1\"\n",
    "else:\n",
    "    if x >= -1:\n",
    "        answer = \"Between -1 and 2\"\n",
    "    else:\n",
    "        answer = \"Less than -1\"\n",
    "print(x)\n",
    "print(answer)"
   ]
  },
  {
   "cell_type": "code",
   "execution_count": 57,
   "id": "2517f9c6",
   "metadata": {},
   "outputs": [
    {
     "name": "stdout",
     "output_type": "stream",
     "text": [
      "0.6354875080901806\n",
      "Between -1 and 1\n"
     ]
    }
   ],
   "source": [
    "# Chained Statements\n",
    "\n",
    "answer = None # similar to Null in general programming\n",
    "x = randn()\n",
    "if x > 1:\n",
    "    answer = \"Greater than 1\"\n",
    "elif x >= -1:\n",
    "    answer = \"Between -1 and 1\"\n",
    "else:\n",
    "    answer = \"Less than -1\"\n",
    "print(x)\n",
    "print(answer)"
   ]
  },
  {
   "cell_type": "markdown",
   "id": "8d72484b",
   "metadata": {},
   "source": [
    "----"
   ]
  },
  {
   "cell_type": "code",
   "execution_count": 58,
   "id": "61da7d3f",
   "metadata": {},
   "outputs": [],
   "source": [
    "# Indentation is very important in the python So always check on you Indent correctly "
   ]
  },
  {
   "cell_type": "markdown",
   "id": "e6d39d26",
   "metadata": {},
   "source": [
    "----"
   ]
  }
 ],
 "metadata": {
  "kernelspec": {
   "display_name": "Python 3",
   "language": "python",
   "name": "python3"
  },
  "language_info": {
   "codemirror_mode": {
    "name": "ipython",
    "version": 3
   },
   "file_extension": ".py",
   "mimetype": "text/x-python",
   "name": "python",
   "nbconvert_exporter": "python",
   "pygments_lexer": "ipython3",
   "version": "3.8.8"
  }
 },
 "nbformat": 4,
 "nbformat_minor": 5
}
