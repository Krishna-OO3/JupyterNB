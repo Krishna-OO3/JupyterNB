{
 "cells": [
  {
   "cell_type": "code",
   "execution_count": 1,
   "id": "f552714f",
   "metadata": {},
   "outputs": [
    {
     "name": "stdout",
     "output_type": "stream",
     "text": [
      "0\n",
      "1\n",
      "2\n",
      "3\n",
      "4\n",
      "5\n",
      "6\n",
      "7\n",
      "8\n",
      "9\n",
      "10\n",
      "11\n"
     ]
    }
   ],
   "source": [
    "a = \"Hello\"\n",
    "count = 0 \n",
    "while count < 12:\n",
    "    print(count)\n",
    "    count = count + 1"
   ]
  },
  {
   "cell_type": "markdown",
   "id": "07e71947",
   "metadata": {},
   "source": [
    "---"
   ]
  },
  {
   "cell_type": "code",
   "execution_count": 7,
   "id": "a856b2bf",
   "metadata": {},
   "outputs": [
    {
     "name": "stdout",
     "output_type": "stream",
     "text": [
      "12\n",
      "12\n",
      "12\n",
      "12\n",
      "12\n"
     ]
    }
   ],
   "source": [
    "for i in range(5):\n",
    "    print (count)"
   ]
  },
  {
   "cell_type": "code",
   "execution_count": 6,
   "id": "423093a8",
   "metadata": {},
   "outputs": [
    {
     "data": {
      "text/plain": [
       "range(0, 5)"
      ]
     },
     "execution_count": 6,
     "metadata": {},
     "output_type": "execute_result"
    }
   ],
   "source": [
    "range(5) # different to python 2.7"
   ]
  },
  {
   "cell_type": "code",
   "execution_count": 8,
   "id": "96e29ced",
   "metadata": {},
   "outputs": [
    {
     "data": {
      "text/plain": [
       "[0, 1, 2, 3, 4]"
      ]
     },
     "execution_count": 8,
     "metadata": {},
     "output_type": "execute_result"
    }
   ],
   "source": [
    "list(range(5))"
   ]
  },
  {
   "cell_type": "markdown",
   "id": "30a8d440",
   "metadata": {},
   "source": [
    "---"
   ]
  },
  {
   "cell_type": "code",
   "execution_count": 10,
   "id": "feedfecb",
   "metadata": {},
   "outputs": [
    {
     "name": "stdout",
     "output_type": "stream",
     "text": [
      "the count is:  0\n",
      "the count is:  1\n",
      "the count is:  2\n",
      "the count is:  3\n",
      "the count is:  4\n"
     ]
    }
   ],
   "source": [
    "for i in range(5):\n",
    "    print(\"the count is: \", i)"
   ]
  },
  {
   "cell_type": "markdown",
   "id": "8133f160",
   "metadata": {},
   "source": [
    "---"
   ]
  },
  {
   "cell_type": "code",
   "execution_count": 11,
   "id": "7228dc90",
   "metadata": {},
   "outputs": [
    {
     "name": "stdout",
     "output_type": "stream",
     "text": [
      "jj =  10\n",
      "jj =  100\n",
      "jj =  1000\n"
     ]
    }
   ],
   "source": [
    "# Another method\n",
    "mylist = [10,100,1000]\n",
    "\n",
    "for jj in mylist:\n",
    "    print(\"jj = \", jj)"
   ]
  },
  {
   "cell_type": "markdown",
   "id": "fff026b1",
   "metadata": {},
   "source": [
    "-----"
   ]
  },
  {
   "cell_type": "code",
   "execution_count": 23,
   "id": "cd8739e3",
   "metadata": {},
   "outputs": [
    {
     "name": "stdout",
     "output_type": "stream",
     "text": [
      "0\n",
      "1\n",
      "2\n",
      "3\n",
      "4\n",
      "5\n",
      "6\n",
      "7\n",
      "8\n",
      "9\n",
      "10\n",
      "11\n",
      "the count is:  0\n",
      "the count is:  1\n",
      "the count is:  2\n",
      "the count is:  3\n",
      "the count is:  4\n",
      "the count is:  5\n",
      "the count is:  6\n",
      "the count is:  7\n",
      "the count is:  8\n",
      "the count is:  9\n",
      "the count is:  10\n",
      "the count is:  11\n"
     ]
    }
   ],
   "source": [
    "# method 1\n",
    "counter = 0\n",
    "for counter in range(12):\n",
    "    print(counter)\n",
    "\n",
    "# method 2\n",
    "mycount = [0,1,2,3,4,5,6,7,8,9,10,11]\n",
    "for i in mycount:\n",
    "    print(\"the count is: \", i)"
   ]
  },
  {
   "cell_type": "markdown",
   "id": "37a6d32d",
   "metadata": {},
   "source": [
    "----"
   ]
  }
 ],
 "metadata": {
  "kernelspec": {
   "display_name": "Python 3",
   "language": "python",
   "name": "python3"
  },
  "language_info": {
   "codemirror_mode": {
    "name": "ipython",
    "version": 3
   },
   "file_extension": ".py",
   "mimetype": "text/x-python",
   "name": "python",
   "nbconvert_exporter": "python",
   "pygments_lexer": "ipython3",
   "version": "3.8.8"
  }
 },
 "nbformat": 4,
 "nbformat_minor": 5
}
