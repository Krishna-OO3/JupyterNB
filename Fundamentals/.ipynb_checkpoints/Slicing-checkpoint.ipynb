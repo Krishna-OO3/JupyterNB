{
 "cells": [
  {
   "cell_type": "code",
   "execution_count": 1,
   "id": "c78c78bb",
   "metadata": {},
   "outputs": [],
   "source": [
    "# What is slicing? {in python}\n",
    "# It a process in which we can pick a part of a list\n",
    "# Example: let us consider a list where l = ['a','b','c','d','e','f','g'] \n",
    "# we can slice this list using 2:5 -> c,d,e,f\n",
    "# we can also use negative index concept in this -6:5 gives the same\n",
    "\n",
    "# you can specify 3rd colon which is advanced slice \n",
    "# The 3rd position is step similar to list\n",
    "# syntax - Start_Elt : End_Elt : Step"
   ]
  },
  {
   "cell_type": "code",
   "execution_count": 2,
   "id": "dba7fb40",
   "metadata": {},
   "outputs": [],
   "source": [
    "# Slice operations in list\n",
    "letters = ['a','b','c','d','e','f','g','h','i','j']"
   ]
  },
  {
   "cell_type": "code",
   "execution_count": 3,
   "id": "326330fa",
   "metadata": {},
   "outputs": [
    {
     "data": {
      "text/plain": [
       "['a', 'b', 'c', 'd', 'e', 'f', 'g', 'h', 'i', 'j']"
      ]
     },
     "execution_count": 3,
     "metadata": {},
     "output_type": "execute_result"
    }
   ],
   "source": [
    "letters[ : ]"
   ]
  },
  {
   "cell_type": "code",
   "execution_count": 4,
   "id": "1d7519e3",
   "metadata": {},
   "outputs": [
    {
     "data": {
      "text/plain": [
       "['c', 'd', 'e', 'f', 'g', 'h', 'i', 'j']"
      ]
     },
     "execution_count": 4,
     "metadata": {},
     "output_type": "execute_result"
    }
   ],
   "source": [
    "letters[2:]"
   ]
  },
  {
   "cell_type": "code",
   "execution_count": 5,
   "id": "e055314f",
   "metadata": {},
   "outputs": [
    {
     "data": {
      "text/plain": [
       "['a', 'b', 'c', 'd', 'e', 'f', 'g']"
      ]
     },
     "execution_count": 5,
     "metadata": {},
     "output_type": "execute_result"
    }
   ],
   "source": [
    "letters[:7]"
   ]
  },
  {
   "cell_type": "code",
   "execution_count": 6,
   "id": "84e555d9",
   "metadata": {},
   "outputs": [
    {
     "data": {
      "text/plain": [
       "['c', 'd', 'e', 'f', 'g']"
      ]
     },
     "execution_count": 6,
     "metadata": {},
     "output_type": "execute_result"
    }
   ],
   "source": [
    "# Positive Index\n",
    "letters[2:7]"
   ]
  },
  {
   "cell_type": "code",
   "execution_count": 7,
   "id": "770e25ab",
   "metadata": {},
   "outputs": [
    {
     "data": {
      "text/plain": [
       "['c', 'd', 'e', 'f', 'g']"
      ]
     },
     "execution_count": 7,
     "metadata": {},
     "output_type": "execute_result"
    }
   ],
   "source": [
    "# Negative Index\n",
    "letters[-8:-3]"
   ]
  },
  {
   "cell_type": "code",
   "execution_count": 8,
   "id": "ddf817db",
   "metadata": {},
   "outputs": [
    {
     "data": {
      "text/plain": [
       "['c', 'd', 'e', 'f', 'g']"
      ]
     },
     "execution_count": 8,
     "metadata": {},
     "output_type": "execute_result"
    }
   ],
   "source": [
    "# Mixed Index\n",
    "letters[-8:7]"
   ]
  },
  {
   "cell_type": "code",
   "execution_count": 9,
   "id": "db93d261",
   "metadata": {},
   "outputs": [
    {
     "data": {
      "text/plain": [
       "['c', 'e', 'g', 'i']"
      ]
     },
     "execution_count": 9,
     "metadata": {},
     "output_type": "execute_result"
    }
   ],
   "source": [
    "# Advanced Splice\n",
    "letters[2:9:2]"
   ]
  },
  {
   "cell_type": "code",
   "execution_count": 12,
   "id": "5af0f463",
   "metadata": {},
   "outputs": [
    {
     "data": {
      "text/plain": [
       "['a', 'd', 'g', 'j']"
      ]
     },
     "execution_count": 12,
     "metadata": {},
     "output_type": "execute_result"
    }
   ],
   "source": [
    "# Only Steps given\n",
    "letters[::3]"
   ]
  },
  {
   "cell_type": "code",
   "execution_count": 13,
   "id": "5dd1dc50",
   "metadata": {},
   "outputs": [
    {
     "data": {
      "text/plain": [
       "['j', 'g', 'd', 'a']"
      ]
     },
     "execution_count": 13,
     "metadata": {},
     "output_type": "execute_result"
    }
   ],
   "source": [
    "# Negative Step\n",
    "letters[::-3]"
   ]
  },
  {
   "cell_type": "markdown",
   "id": "02655112",
   "metadata": {},
   "source": [
    "-----"
   ]
  }
 ],
 "metadata": {
  "kernelspec": {
   "display_name": "Python 3",
   "language": "python",
   "name": "python3"
  },
  "language_info": {
   "codemirror_mode": {
    "name": "ipython",
    "version": 3
   },
   "file_extension": ".py",
   "mimetype": "text/x-python",
   "name": "python",
   "nbconvert_exporter": "python",
   "pygments_lexer": "ipython3",
   "version": "3.8.8"
  }
 },
 "nbformat": 4,
 "nbformat_minor": 5
}
