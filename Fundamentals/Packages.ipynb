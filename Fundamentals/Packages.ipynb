{
 "cells": [
  {
   "cell_type": "code",
   "execution_count": 1,
   "id": "036bdc3f",
   "metadata": {},
   "outputs": [],
   "source": [
    "# What is packages?\n",
    "# Packages contain different functions that can be imported to do tasks\n",
    "# let us say a package contains fruits and another contains blenders and another might contain different blades for the blender"
   ]
  },
  {
   "cell_type": "code",
   "execution_count": 2,
   "id": "204eeec8",
   "metadata": {},
   "outputs": [],
   "source": [
    "# MODULE: A module is simply a file containing python defenitions , functions and statements. Putting code into modules is\n",
    "# because of the ability to import the module functionality into your script or IPython session\n",
    "\n",
    "# PACKAGE: A package is just a way of collecting related modules together within a single tree-like heirarchy. Very Complex\n",
    "# packages like Numpy or Scipy have hundreds of individual modules so putting them into a directory-like structure keeps things\n",
    "# organized and avoids name collisions."
   ]
  },
  {
   "cell_type": "code",
   "execution_count": 3,
   "id": "1f59ea7e",
   "metadata": {},
   "outputs": [],
   "source": [
    "# Steps:\n",
    "# 1. Find the package - anywhere {example : github , anaconda offical website and python official website}\n",
    "# 2. Install package - anaconda prompt can be used to install packages {Conda install package_name or pip install}\n",
    "# 3. Import package or function - {eg: import numpy}"
   ]
  },
  {
   "cell_type": "code",
   "execution_count": 1,
   "id": "f0668f4a",
   "metadata": {},
   "outputs": [],
   "source": [
    "import scrapy"
   ]
  },
  {
   "cell_type": "code",
   "execution_count": 2,
   "id": "320f5826",
   "metadata": {},
   "outputs": [],
   "source": [
    "from scrapy.crawler import CrawlerProcess"
   ]
  },
  {
   "cell_type": "code",
   "execution_count": 3,
   "id": "e1843252",
   "metadata": {},
   "outputs": [],
   "source": [
    "# you can see the methods by click tab after scrapy."
   ]
  },
  {
   "cell_type": "markdown",
   "id": "ecb1e8c9",
   "metadata": {},
   "source": [
    "-----"
   ]
  }
 ],
 "metadata": {
  "kernelspec": {
   "display_name": "Python 3",
   "language": "python",
   "name": "python3"
  },
  "language_info": {
   "codemirror_mode": {
    "name": "ipython",
    "version": 3
   },
   "file_extension": ".py",
   "mimetype": "text/x-python",
   "name": "python",
   "nbconvert_exporter": "python",
   "pygments_lexer": "ipython3",
   "version": "3.8.8"
  }
 },
 "nbformat": 4,
 "nbformat_minor": 5
}
