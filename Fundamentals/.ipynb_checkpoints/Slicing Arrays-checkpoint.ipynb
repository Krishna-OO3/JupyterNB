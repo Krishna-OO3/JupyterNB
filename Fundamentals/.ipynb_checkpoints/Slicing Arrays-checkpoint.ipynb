{
 "cells": [
  {
   "cell_type": "code",
   "execution_count": 1,
   "id": "8232782f",
   "metadata": {},
   "outputs": [
    {
     "name": "stdout",
     "output_type": "stream",
     "text": [
      "List:  [20, 23, 342, 21, -459, -321]\n",
      "Array:  [  20   23  342   21 -459 -321]\n"
     ]
    }
   ],
   "source": [
    "import numpy as np\n",
    "lst = [20, 23, 342, 21, -459, -321]\n",
    "arr = np.array(lst)\n",
    "print(\"List: \",lst)\n",
    "print(\"Array: \",arr)"
   ]
  },
  {
   "cell_type": "code",
   "execution_count": 4,
   "id": "b47fa6db",
   "metadata": {},
   "outputs": [
    {
     "data": {
      "text/plain": [
       "array([ 342,   21, -459])"
      ]
     },
     "execution_count": 4,
     "metadata": {},
     "output_type": "execute_result"
    }
   ],
   "source": [
    "# slice array\n",
    "arr[2:5]"
   ]
  },
  {
   "cell_type": "code",
   "execution_count": 5,
   "id": "afd4e1f2",
   "metadata": {},
   "outputs": [],
   "source": [
    "b = arr[2:5]"
   ]
  },
  {
   "cell_type": "code",
   "execution_count": 6,
   "id": "d025e048",
   "metadata": {},
   "outputs": [
    {
     "data": {
      "text/plain": [
       "342"
      ]
     },
     "execution_count": 6,
     "metadata": {},
     "output_type": "execute_result"
    }
   ],
   "source": [
    "b[0]"
   ]
  },
  {
   "cell_type": "code",
   "execution_count": 7,
   "id": "c59eda57",
   "metadata": {},
   "outputs": [
    {
     "data": {
      "text/plain": [
       "20"
      ]
     },
     "execution_count": 7,
     "metadata": {},
     "output_type": "execute_result"
    }
   ],
   "source": [
    "arr[0]"
   ]
  },
  {
   "cell_type": "code",
   "execution_count": 8,
   "id": "2cac9024",
   "metadata": {},
   "outputs": [],
   "source": [
    "b[:]= 111"
   ]
  },
  {
   "cell_type": "code",
   "execution_count": 9,
   "id": "79fa81c8",
   "metadata": {},
   "outputs": [
    {
     "data": {
      "text/plain": [
       "array([111, 111, 111])"
      ]
     },
     "execution_count": 9,
     "metadata": {},
     "output_type": "execute_result"
    }
   ],
   "source": [
    "b"
   ]
  },
  {
   "cell_type": "code",
   "execution_count": 10,
   "id": "833d82ae",
   "metadata": {},
   "outputs": [
    {
     "data": {
      "text/plain": [
       "array([  20,   23,  111,  111,  111, -321])"
      ]
     },
     "execution_count": 10,
     "metadata": {},
     "output_type": "execute_result"
    }
   ],
   "source": [
    "arr"
   ]
  },
  {
   "cell_type": "code",
   "execution_count": 11,
   "id": "bb1a3549",
   "metadata": {},
   "outputs": [],
   "source": [
    "# when we slice an array we dont save the slice\n",
    "# we can either assign an sliced array to a new array or we can .copy the array and then manipulate data"
   ]
  },
  {
   "cell_type": "code",
   "execution_count": 12,
   "id": "06ca6b49",
   "metadata": {},
   "outputs": [],
   "source": [
    "c = arr.copy()"
   ]
  },
  {
   "cell_type": "code",
   "execution_count": 13,
   "id": "e591ddeb",
   "metadata": {},
   "outputs": [
    {
     "data": {
      "text/plain": [
       "array([  20,   23,  111,  111,  111, -321])"
      ]
     },
     "execution_count": 13,
     "metadata": {},
     "output_type": "execute_result"
    }
   ],
   "source": [
    "c"
   ]
  },
  {
   "cell_type": "code",
   "execution_count": 14,
   "id": "55dec31f",
   "metadata": {},
   "outputs": [],
   "source": [
    "# and then manipulate data to be careful with your given data"
   ]
  }
 ],
 "metadata": {
  "kernelspec": {
   "display_name": "Python 3",
   "language": "python",
   "name": "python3"
  },
  "language_info": {
   "codemirror_mode": {
    "name": "ipython",
    "version": 3
   },
   "file_extension": ".py",
   "mimetype": "text/x-python",
   "name": "python",
   "nbconvert_exporter": "python",
   "pygments_lexer": "ipython3",
   "version": "3.8.8"
  }
 },
 "nbformat": 4,
 "nbformat_minor": 5
}
