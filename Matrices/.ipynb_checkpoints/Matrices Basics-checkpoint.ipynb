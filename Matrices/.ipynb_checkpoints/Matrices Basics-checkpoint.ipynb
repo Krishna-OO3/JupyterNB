{
 "cells": [
  {
   "cell_type": "markdown",
   "id": "156054b2",
   "metadata": {},
   "source": [
    "### Matrices"
   ]
  },
  {
   "cell_type": "code",
   "execution_count": 2,
   "id": "1dc4db10",
   "metadata": {},
   "outputs": [],
   "source": [
    "# ways to build a matrix in python"
   ]
  },
  {
   "cell_type": "code",
   "execution_count": 3,
   "id": "c73f4fa1",
   "metadata": {},
   "outputs": [
    {
     "name": "stdout",
     "output_type": "stream",
     "text": [
      "[ 0  1  2  3  4  5  6  7  8  9 10 11 12 13 14 15 16 17 18 19]\n"
     ]
    }
   ],
   "source": [
    "import numpy as np\n",
    "mydata = np.arange(0,20)\n",
    "print(mydata)"
   ]
  },
  {
   "cell_type": "code",
   "execution_count": 4,
   "id": "4233cf18",
   "metadata": {},
   "outputs": [
    {
     "data": {
      "text/plain": [
       "array([[ 0,  1,  2,  3],\n",
       "       [ 4,  5,  6,  7],\n",
       "       [ 8,  9, 10, 11],\n",
       "       [12, 13, 14, 15],\n",
       "       [16, 17, 18, 19]])"
      ]
     },
     "execution_count": 4,
     "metadata": {},
     "output_type": "execute_result"
    }
   ],
   "source": [
    "np.reshape(mydata, (5,4))"
   ]
  },
  {
   "cell_type": "code",
   "execution_count": 6,
   "id": "40d6000a",
   "metadata": {},
   "outputs": [],
   "source": [
    "matrix1 = np.reshape(mydata, (5,4), order ='C')"
   ]
  },
  {
   "cell_type": "code",
   "execution_count": 7,
   "id": "def24d7b",
   "metadata": {},
   "outputs": [
    {
     "name": "stdout",
     "output_type": "stream",
     "text": [
      "[[ 0  1  2  3]\n",
      " [ 4  5  6  7]\n",
      " [ 8  9 10 11]\n",
      " [12 13 14 15]\n",
      " [16 17 18 19]]\n"
     ]
    }
   ],
   "source": [
    "print(matrix1)"
   ]
  },
  {
   "cell_type": "code",
   "execution_count": 8,
   "id": "3e63b84b",
   "metadata": {},
   "outputs": [
    {
     "data": {
      "text/plain": [
       "10"
      ]
     },
     "execution_count": 8,
     "metadata": {},
     "output_type": "execute_result"
    }
   ],
   "source": [
    "# get the number 10 \n",
    "matrix1[2,2]"
   ]
  },
  {
   "cell_type": "code",
   "execution_count": 10,
   "id": "0a2f570c",
   "metadata": {},
   "outputs": [
    {
     "name": "stdout",
     "output_type": "stream",
     "text": [
      "[[ 0  5 10 15]\n",
      " [ 1  6 11 16]\n",
      " [ 2  7 12 17]\n",
      " [ 3  8 13 18]\n",
      " [ 4  9 14 19]]\n"
     ]
    }
   ],
   "source": [
    "# method 1\n",
    "matrix2 = np.reshape(mydata, (5,4), order ='F')\n",
    "print(matrix2)"
   ]
  },
  {
   "cell_type": "code",
   "execution_count": 12,
   "id": "b349365d",
   "metadata": {},
   "outputs": [
    {
     "data": {
      "text/plain": [
       "10"
      ]
     },
     "execution_count": 12,
     "metadata": {},
     "output_type": "execute_result"
    }
   ],
   "source": [
    "matrix2[0,2]"
   ]
  },
  {
   "cell_type": "code",
   "execution_count": 15,
   "id": "fa380424",
   "metadata": {},
   "outputs": [
    {
     "data": {
      "text/plain": [
       "array([[ 0,  1,  2,  3],\n",
       "       [ 4,  5,  6,  7],\n",
       "       [ 8,  9, 10, 11],\n",
       "       [12, 13, 14, 15],\n",
       "       [16, 17, 18, 19]])"
      ]
     },
     "execution_count": 15,
     "metadata": {},
     "output_type": "execute_result"
    }
   ],
   "source": [
    "# Object oriented concepts\n",
    "# np.reshape(mydata, (5,4))\n",
    "# type(mydata)\n",
    "mydata.reshape((5,4))"
   ]
  },
  {
   "cell_type": "code",
   "execution_count": 16,
   "id": "9e3611ae",
   "metadata": {},
   "outputs": [
    {
     "data": {
      "text/plain": [
       "[[1, 2, 3], ['x', 'y', 'z'], ['good', 'day', 'today']]"
      ]
     },
     "execution_count": 16,
     "metadata": {},
     "output_type": "execute_result"
    }
   ],
   "source": [
    "# method 2\n",
    "a = [1, 2, 3]\n",
    "b = [\"x\",\"y\",\"z\"]\n",
    "c = [\"good\", \"day\", \"today\"]\n",
    "[a,b,c]"
   ]
  },
  {
   "cell_type": "code",
   "execution_count": 18,
   "id": "39327559",
   "metadata": {},
   "outputs": [
    {
     "name": "stdout",
     "output_type": "stream",
     "text": [
      "[['1' '2' '3']\n",
      " ['x' 'y' 'z']\n",
      " ['good' 'day' 'today']]\n"
     ]
    }
   ],
   "source": [
    "print(np.array([a,b,c]))"
   ]
  },
  {
   "cell_type": "markdown",
   "id": "b5cb2e0b",
   "metadata": {},
   "source": [
    "-----"
   ]
  }
 ],
 "metadata": {
  "kernelspec": {
   "display_name": "Python 3",
   "language": "python",
   "name": "python3"
  },
  "language_info": {
   "codemirror_mode": {
    "name": "ipython",
    "version": 3
   },
   "file_extension": ".py",
   "mimetype": "text/x-python",
   "name": "python",
   "nbconvert_exporter": "python",
   "pygments_lexer": "ipython3",
   "version": "3.8.8"
  }
 },
 "nbformat": 4,
 "nbformat_minor": 5
}
