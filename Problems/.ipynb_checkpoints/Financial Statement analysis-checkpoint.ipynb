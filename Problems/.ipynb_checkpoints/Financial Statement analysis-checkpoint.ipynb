{
 "cells": [
  {
   "cell_type": "markdown",
   "id": "0bda5f7b",
   "metadata": {},
   "source": [
    "-> Problem 2\n",
    "\n",
    "Scenario : You are a Data Scientist working for a consulting firm.One of your colleagues from the auditing department has\n",
    "           asked you to help them access the financial statment of the organization X.\n",
    "\n",
    "You have been supplied with two lists of data : Monthly revenue and Monthly expenses for the financial year in question.\n",
    "\n",
    "Your task is to calculate the following financial metrics:\n",
    "1. Profit of each month\n",
    "2. Profit after tax for each month(Tax rate is 30%)\n",
    "3. Profit margin for each month - equals to profit after tax divided by revenue\n",
    "4. Good months -> Where profit after tax was greater than the mean for the year\n",
    "5. Bad months -> Where the profit after tax was less than the mean for the year\n",
    "6. The best month -> Where the profit after tax was max for the year\n",
    "7. The worst month -> where the profit after tax was min for the year"
   ]
  },
  {
   "cell_type": "markdown",
   "id": "08b4b655",
   "metadata": {},
   "source": [
    "All results need to be presented as lists\n",
    "\n",
    "Results for dollar values need to be calculated with $0.01 dollar$ precision ,but need to be presented in units of $1000 with no decimal point\n",
    "Results for the profit margin ratio need to be presented in units of % with no decimal point\n",
    "\n",
    "NOTE: Your colleague has warned you that its okay for tax for any given month to be neagtive( In accounting terms, negative\n",
    "      tax translates into defferred tax asset)"
   ]
  },
  {
   "cell_type": "markdown",
   "id": "a567d744",
   "metadata": {},
   "source": [
    "https://www.superdatascience.com/pages/python copy this link and download the dataset"
   ]
  },
  {
   "cell_type": "code",
   "execution_count": 1,
   "id": "e597bd08",
   "metadata": {},
   "outputs": [],
   "source": [
    "#Data \n",
    "\n",
    "revenue = [14574.49, 7606.46, 8611.41, 9175.41, 8058.65, 8105.44, 11496.28, 9766.09, 10305.32, 14379.96, 10713.97, 15433.50]\n",
    "expenses = [12051.82, 5695.07, 12319.20, 12089.72, 8658.57, 840.20, 3285.73, 5821.12, 6976.93, 16618.61, 10054.37, 3803.96]"
   ]
  },
  {
   "cell_type": "code",
   "execution_count": 2,
   "id": "21c37dd4",
   "metadata": {},
   "outputs": [
    {
     "name": "stdout",
     "output_type": "stream",
     "text": [
      "[2522.67, 1911.3900000000003, -3707.790000000001, -2914.3099999999995, -599.9200000000001, 7265.24, 8210.550000000001, 3944.9700000000003, 3328.3899999999994, -2238.6500000000015, 659.5999999999985, 11629.54]\n"
     ]
    }
   ],
   "source": [
    "# Calculating Profit as difference between revenue and expenses\n",
    "\n",
    "profit = list([])\n",
    "\n",
    "for i in range (0, len(revenue)):\n",
    "    profit.append(revenue[i] - expenses[i])\n",
    "print(profit)"
   ]
  },
  {
   "cell_type": "code",
   "execution_count": 3,
   "id": "b8958cd9",
   "metadata": {},
   "outputs": [
    {
     "name": "stdout",
     "output_type": "stream",
     "text": [
      "[756.8, 573.42, -1112.34, -874.29, -179.98, 2179.57, 2463.17, 1183.49, 998.52, -671.6, 197.88, 3488.86]\n"
     ]
    }
   ],
   "source": [
    "# Calculating Tax as 30% of Profit and Round to 2 Decimal Points\n",
    "\n",
    "tax = [round(i * 0.3, 2) for i in profit]\n",
    "print(tax)"
   ]
  },
  {
   "cell_type": "code",
   "execution_count": 4,
   "id": "b4fdd950",
   "metadata": {},
   "outputs": [
    {
     "name": "stdout",
     "output_type": "stream",
     "text": [
      "[1765.8700000000001, 1337.9700000000003, -2595.4500000000007, -2040.0199999999995, -419.94000000000005, 5085.67, 5747.380000000001, 2761.4800000000005, 2329.8699999999994, -1567.0500000000015, 461.71999999999855, 8140.68]\n"
     ]
    }
   ],
   "source": [
    "# Calculating Profit remaining after Tax is deducted\n",
    "\n",
    "profit_after_tax = list([])\n",
    "for i in range (0, len(profit)):\n",
    "    profit_after_tax.append(profit[i] - tax[i])\n",
    "print(profit_after_tax)"
   ]
  },
  {
   "cell_type": "code",
   "execution_count": 5,
   "id": "96b98a92",
   "metadata": {},
   "outputs": [
    {
     "name": "stdout",
     "output_type": "stream",
     "text": [
      "[0.12116170102693131, 0.17589916991609766, -0.3013966353942038, -0.22233556865578755, -0.05211046515235183, 0.6274391026273712, 0.4999338916588671, 0.2827620880004178, 0.2260841972883908, -0.10897457294735184, 0.04309513653668982, 0.527468169890174]\n",
      "[12.12, 17.59, -30.14, -22.23, -5.21, 62.74, 49.99, 28.28, 22.61, -10.9, 4.31, 52.75]\n"
     ]
    }
   ],
   "source": [
    "# Calculate The Profit Margin As Profit After Tax Over Revenue\n",
    "# Round To 2 Decimal Points, Then Multiply By 100 To Get %\n",
    "\n",
    "profit_margin = list([])\n",
    "for i in range (0, len(profit)):\n",
    "    profit_margin.append(profit_after_tax[i] / revenue[i])\n",
    "print(profit_margin)\n",
    "\n",
    "profit_margin = [round((i*100),2) for i in profit_margin]\n",
    "\n",
    "print(profit_margin)"
   ]
  },
  {
   "cell_type": "code",
   "execution_count": 6,
   "id": "2ac3cda4",
   "metadata": {},
   "outputs": [
    {
     "data": {
      "text/plain": [
       "1750.6816666666666"
      ]
     },
     "execution_count": 6,
     "metadata": {},
     "output_type": "execute_result"
    }
   ],
   "source": [
    "# Calculate The Mean Profit After Tax For The 12 Months\n",
    "\n",
    "mean_PAT = sum(profit_after_tax) / len(profit_after_tax)\n",
    "mean_PAT"
   ]
  },
  {
   "cell_type": "code",
   "execution_count": 7,
   "id": "0b47f819",
   "metadata": {},
   "outputs": [
    {
     "name": "stdout",
     "output_type": "stream",
     "text": [
      "[True, False, False, False, False, True, True, True, True, False, False, True]\n"
     ]
    }
   ],
   "source": [
    "# Find The Months With Above-Mean Profit After Tax\n",
    "\n",
    "good_months = list([])\n",
    "\n",
    "for i in range (0, len(profit)):\n",
    "    good_months.append(profit_after_tax[i] > mean_PAT)\n",
    "print(good_months)"
   ]
  },
  {
   "cell_type": "code",
   "execution_count": 8,
   "id": "b783dbf7",
   "metadata": {},
   "outputs": [
    {
     "name": "stdout",
     "output_type": "stream",
     "text": [
      "[False, True, True, True, True, False, False, False, False, True, True, False]\n"
     ]
    }
   ],
   "source": [
    "# Bad Months Are The Opposite Of Good Months!\n",
    "\n",
    "bad_months = list([])\n",
    "\n",
    "for i in range (0, len(profit)):\n",
    "    bad_months.append(not (good_months[i]))\n",
    "print(bad_months)"
   ]
  },
  {
   "cell_type": "code",
   "execution_count": 9,
   "id": "21e8cefb",
   "metadata": {},
   "outputs": [
    {
     "name": "stdout",
     "output_type": "stream",
     "text": [
      "[False, False, False, False, False, False, False, False, False, False, False, True]\n"
     ]
    },
    {
     "data": {
      "text/plain": [
       "list"
      ]
     },
     "execution_count": 9,
     "metadata": {},
     "output_type": "execute_result"
    }
   ],
   "source": [
    "# The Best Month Is Where Profit After Tax Was Equal To The Maximum\n",
    "\n",
    "best_month = list([])\n",
    "\n",
    "for i in range (0, len(profit)):\n",
    "    best_month.append(profit_after_tax[i] == max(profit_after_tax))\n",
    "print(best_month)\n",
    "type(best_month)"
   ]
  },
  {
   "cell_type": "code",
   "execution_count": 10,
   "id": "4fee7fb6",
   "metadata": {},
   "outputs": [
    {
     "name": "stdout",
     "output_type": "stream",
     "text": [
      "[False, False, True, False, False, False, False, False, False, False, False, False]\n"
     ]
    }
   ],
   "source": [
    "# The Worst Month Is Where Profit After Tax Was Equal To The Minimum\n",
    "\n",
    "worst_month = list([])\n",
    "\n",
    "for i in range (0, len(profit)):\n",
    "    worst_month.append(profit_after_tax[i] == min(profit_after_tax))\n",
    "print(worst_month)"
   ]
  },
  {
   "cell_type": "code",
   "execution_count": 11,
   "id": "2fd23a48",
   "metadata": {},
   "outputs": [],
   "source": [
    "# Convert All Calculations To Units Of One Thousand Dollars\n",
    "\n",
    "revenue_1000 = [round(i/1000, 2) for i in revenue]\n",
    "\n",
    "expenses_1000 = [round(i/1000, 2) for i in expenses]\n",
    "\n",
    "profit_1000 = [round(i/1000, 2) for i in profit]\n",
    "\n",
    "profit_after_tax_1000 = [round(i/1000, 2) for i in profit_after_tax]\n",
    "\n",
    "revenue_1000 = [int(i) for i in revenue_1000]\n",
    "expenses_1000 = [int(i) for i in expenses_1000]\n",
    "profit_1000 = [int(i) for i in profit_1000]\n",
    "profit_after_tax_1000 = [int(i) for i in profit_after_tax_1000]"
   ]
  },
  {
   "cell_type": "code",
   "execution_count": 14,
   "id": "0efd8920",
   "metadata": {},
   "outputs": [
    {
     "name": "stdout",
     "output_type": "stream",
     "text": [
      "Revenue : [14, 7, 8, 9, 8, 8, 11, 9, 10, 14, 10, 15]\n",
      "Expenses : [12, 5, 12, 12, 8, 0, 3, 5, 6, 16, 10, 3]\n",
      "Profit : [2, 1, -3, -2, 0, 7, 8, 3, 3, -2, 0, 11]\n",
      "Profit after tax : [1, 1, -2, -2, 0, 5, 5, 2, 2, -1, 0, 8]\n",
      "Profit margin : [12.12, 17.59, -30.14, -22.23, -5.21, 62.74, 49.99, 28.28, 22.61, -10.9, 4.31, 52.75]\n",
      "Good months : [True, False, False, False, False, True, True, True, True, False, False, True]\n",
      "Bad months : [False, True, True, True, True, False, False, False, False, True, True, False]\n",
      "Best month : [False, False, False, False, False, False, False, False, False, False, False, True]\n",
      "Worst month : [False, False, True, False, False, False, False, False, False, False, False, False]\n"
     ]
    }
   ],
   "source": [
    "# Print Results\n",
    "\n",
    "print (\"Revenue :\", revenue_1000)\n",
    "\n",
    "print (\"Expenses :\", expenses_1000)\n",
    "\n",
    "print (\"Profit :\", profit_1000)\n",
    "\n",
    "print (\"Profit after tax :\", profit_after_tax_1000)\n",
    "\n",
    "print (\"Profit margin :\", profit_margin)\n",
    "\n",
    "print (\"Good months :\", good_months)\n",
    "\n",
    "print (\"Bad months :\", bad_months)\n",
    "\n",
    "print (\"Best month :\", best_month)\n",
    "\n",
    "print (\"Worst month :\", worst_month)"
   ]
  },
  {
   "cell_type": "markdown",
   "id": "a9ccc9b5",
   "metadata": {},
   "source": [
    "---"
   ]
  }
 ],
 "metadata": {
  "kernelspec": {
   "display_name": "Python 3",
   "language": "python",
   "name": "python3"
  },
  "language_info": {
   "codemirror_mode": {
    "name": "ipython",
    "version": 3
   },
   "file_extension": ".py",
   "mimetype": "text/x-python",
   "name": "python",
   "nbconvert_exporter": "python",
   "pygments_lexer": "ipython3",
   "version": "3.8.8"
  }
 },
 "nbformat": 4,
 "nbformat_minor": 5
}
