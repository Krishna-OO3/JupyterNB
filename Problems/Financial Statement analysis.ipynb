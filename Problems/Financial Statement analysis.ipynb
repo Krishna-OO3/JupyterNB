{
 "cells": [
  {
   "cell_type": "code",
   "execution_count": 1,
   "id": "74a67c69",
   "metadata": {},
   "outputs": [],
   "source": [
    "# Problem 2\n",
    "\n",
    "# Scenario : You are a Data Scientist working for a consulting firm.One of your colleagues from the auditing department has\n",
    "# asked you to help them access the financial statment of the organization X.\n",
    "\n",
    "# You have been supplied with two lists of data : Monthly revenue and Monthly expenses for the financial year in question.Your\n",
    "# task is to calculate the following financial metrics:\n",
    "\n",
    "# 1. Profit of each month\n",
    "# 2. Profit after tax for each month(Tax rate is 30%)\n",
    "# 3. Profit margin for each month - equals to profit after tax divided by revenue\n",
    "# 4. Good months -> Where profit after tax was greater than the mean for the year\n",
    "# 5. Bad months -> Where the profit after tax was less than the mean for the year\n",
    "# 6. The best month -> Where the profit after tax was max for the year\n",
    "# 7. The worst month -> where the profit after tax was min for the year"
   ]
  },
  {
   "cell_type": "code",
   "execution_count": 2,
   "id": "8c33f8e2",
   "metadata": {},
   "outputs": [],
   "source": [
    "# All results need to be presented as lists\n",
    "\n",
    "# Results for dollar values need to be calculated with $0.01 precision,but need to be presented in units of $1000 with no dec pt\n",
    "# Results for the profit margin ratio need to be presented in units of % with no dec pt\n",
    "\n",
    "# NOTE: Your colleague has warned you that its okay for tax for any given month to be neagtive( In accounting terms, negative\n",
    "# tax translates into defferred tax asset)"
   ]
  },
  {
   "cell_type": "code",
   "execution_count": null,
   "id": "583486ca",
   "metadata": {},
   "outputs": [],
   "source": [
    "# https://www.superdatascience.com/pages/python copy this link and download the dataset"
   ]
  }
 ],
 "metadata": {
  "kernelspec": {
   "display_name": "Python 3",
   "language": "python",
   "name": "python3"
  },
  "language_info": {
   "codemirror_mode": {
    "name": "ipython",
    "version": 3
   },
   "file_extension": ".py",
   "mimetype": "text/x-python",
   "name": "python",
   "nbconvert_exporter": "python",
   "pygments_lexer": "ipython3",
   "version": "3.8.8"
  }
 },
 "nbformat": 4,
 "nbformat_minor": 5
}
