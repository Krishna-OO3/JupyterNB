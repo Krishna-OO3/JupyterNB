{
 "cells": [
  {
   "cell_type": "code",
   "execution_count": 1,
   "id": "acd7992f",
   "metadata": {},
   "outputs": [],
   "source": [
    "# What is a List ? A list is an ordered sequence of elements.It Storage medium for data and to access we need a fixation or index\n",
    "# To remember easily: A book shelf with books in it replace it with whatever the defenition maybe\n",
    "# In python you can have mixed data types inside a list"
   ]
  },
  {
   "cell_type": "code",
   "execution_count": 2,
   "id": "e1d02269",
   "metadata": {},
   "outputs": [],
   "source": [
    "MyfirstList = [1, 33, 42, 349]"
   ]
  },
  {
   "cell_type": "code",
   "execution_count": 3,
   "id": "f75eb525",
   "metadata": {},
   "outputs": [
    {
     "data": {
      "text/plain": [
       "[1, 33, 42, 349]"
      ]
     },
     "execution_count": 3,
     "metadata": {},
     "output_type": "execute_result"
    }
   ],
   "source": [
    "MyfirstList"
   ]
  },
  {
   "cell_type": "code",
   "execution_count": 4,
   "id": "f9ee700e",
   "metadata": {},
   "outputs": [
    {
     "data": {
      "text/plain": [
       "list"
      ]
     },
     "execution_count": 4,
     "metadata": {},
     "output_type": "execute_result"
    }
   ],
   "source": [
    "type(MyfirstList)"
   ]
  },
  {
   "cell_type": "markdown",
   "id": "eff64421",
   "metadata": {},
   "source": [
    "----"
   ]
  },
  {
   "cell_type": "code",
   "execution_count": 5,
   "id": "1340b8f2",
   "metadata": {},
   "outputs": [
    {
     "name": "stdout",
     "output_type": "stream",
     "text": [
      "['hello', 1, True, 0.5635]\n"
     ]
    },
    {
     "data": {
      "text/plain": [
       "list"
      ]
     },
     "execution_count": 5,
     "metadata": {},
     "output_type": "execute_result"
    }
   ],
   "source": [
    "l1 =[\"hello\", 1 , True, 0.5635]\n",
    "print(l1)\n",
    "type(l1)"
   ]
  },
  {
   "cell_type": "code",
   "execution_count": 6,
   "id": "c94002a4",
   "metadata": {},
   "outputs": [
    {
     "name": "stdout",
     "output_type": "stream",
     "text": [
      "['Hi', ['hello', 1, True, 0.5635], [1, 33, 42, 349]]\n"
     ]
    },
    {
     "data": {
      "text/plain": [
       "list"
      ]
     },
     "execution_count": 6,
     "metadata": {},
     "output_type": "execute_result"
    }
   ],
   "source": [
    "l2 = [\"Hi\", l1 , MyfirstList]\n",
    "print(l2)\n",
    "type(l2)"
   ]
  },
  {
   "cell_type": "markdown",
   "id": "83c4e90d",
   "metadata": {},
   "source": [
    "------"
   ]
  },
  {
   "cell_type": "code",
   "execution_count": 7,
   "id": "9b709e43",
   "metadata": {},
   "outputs": [],
   "source": [
    "# Range is used for range of numbers from-to (0 to 5) for example"
   ]
  },
  {
   "cell_type": "code",
   "execution_count": 11,
   "id": "6bc7597f",
   "metadata": {},
   "outputs": [
    {
     "name": "stdout",
     "output_type": "stream",
     "text": [
      "range(0, 15)\n"
     ]
    },
    {
     "data": {
      "text/plain": [
       "[0, 1, 2, 3, 4, 5, 6, 7, 8, 9, 10, 11, 12, 13, 14]"
      ]
     },
     "execution_count": 11,
     "metadata": {},
     "output_type": "execute_result"
    }
   ],
   "source": [
    "print(range(15)) # range in python 3 is same as xrange in python 2\n",
    "list(range(15))"
   ]
  },
  {
   "cell_type": "code",
   "execution_count": 12,
   "id": "76c09fac",
   "metadata": {},
   "outputs": [],
   "source": [
    "# Range is used for agreggation and some small mathematical operations "
   ]
  },
  {
   "cell_type": "code",
   "execution_count": 15,
   "id": "49f1a4b6",
   "metadata": {},
   "outputs": [
    {
     "name": "stdout",
     "output_type": "stream",
     "text": [
      "[1, 2, 3, 4, 5, 6]\n",
      "[121, 122, 123, 124, 125, 126, 127, 128, 129, 130, 131, 132, 133, 134, 135, 136, 137, 138]\n"
     ]
    }
   ],
   "source": [
    "# Two methods of list \n",
    "# Method 1\n",
    "a = [1,2,3,4,5,6]\n",
    "print(a)\n",
    "\n",
    "# Method 2\n",
    "b = list(range(121,139))\n",
    "print(b)"
   ]
  },
  {
   "cell_type": "code",
   "execution_count": 18,
   "id": "d93dcac3",
   "metadata": {},
   "outputs": [
    {
     "name": "stdout",
     "output_type": "stream",
     "text": [
      "[129, 132, 135, 138, 141, 144]\n"
     ]
    }
   ],
   "source": [
    "# In range you can specify steps to mover from one number to another while creating\n",
    "x = list(range(129, 145, 3)) # SYNTAX: range(starting point, ending point, steps)\n",
    "print(x)"
   ]
  },
  {
   "cell_type": "markdown",
   "id": "1c591145",
   "metadata": {},
   "source": [
    "-----"
   ]
  }
 ],
 "metadata": {
  "kernelspec": {
   "display_name": "Python 3",
   "language": "python",
   "name": "python3"
  },
  "language_info": {
   "codemirror_mode": {
    "name": "ipython",
    "version": 3
   },
   "file_extension": ".py",
   "mimetype": "text/x-python",
   "name": "python",
   "nbconvert_exporter": "python",
   "pygments_lexer": "ipython3",
   "version": "3.8.8"
  }
 },
 "nbformat": 4,
 "nbformat_minor": 5
}
