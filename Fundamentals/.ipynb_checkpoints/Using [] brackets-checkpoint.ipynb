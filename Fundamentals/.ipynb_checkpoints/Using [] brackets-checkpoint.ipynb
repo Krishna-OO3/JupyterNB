{
 "cells": [
  {
   "cell_type": "code",
   "execution_count": 1,
   "id": "895c27c0",
   "metadata": {},
   "outputs": [],
   "source": [
    "# Square brackets operator"
   ]
  },
  {
   "cell_type": "code",
   "execution_count": 2,
   "id": "4c741ddc",
   "metadata": {},
   "outputs": [
    {
     "name": "stdout",
     "output_type": "stream",
     "text": [
      "['a', 'e', 'i', 'o', 'u']\n"
     ]
    }
   ],
   "source": [
    "w = ['a', 'e', 'i', 'o', 'u']\n",
    "print(w)"
   ]
  },
  {
   "cell_type": "code",
   "execution_count": 4,
   "id": "628eb7a8",
   "metadata": {},
   "outputs": [
    {
     "name": "stdout",
     "output_type": "stream",
     "text": [
      "e\n"
     ]
    }
   ],
   "source": [
    "print(w[1])"
   ]
  },
  {
   "cell_type": "code",
   "execution_count": 5,
   "id": "4d309179",
   "metadata": {},
   "outputs": [
    {
     "data": {
      "text/plain": [
       "5"
      ]
     },
     "execution_count": 5,
     "metadata": {},
     "output_type": "execute_result"
    }
   ],
   "source": [
    "len(w) # getting the length using len operator"
   ]
  },
  {
   "cell_type": "code",
   "execution_count": 6,
   "id": "d00ebf30",
   "metadata": {},
   "outputs": [
    {
     "data": {
      "text/plain": [
       "['a', 'e', 'i', 'o', 'u']"
      ]
     },
     "execution_count": 6,
     "metadata": {},
     "output_type": "execute_result"
    }
   ],
   "source": [
    "# there are two types of indexes\n",
    "w"
   ]
  },
  {
   "cell_type": "code",
   "execution_count": 7,
   "id": "b6fa4f9e",
   "metadata": {},
   "outputs": [],
   "source": [
    "# 1    2    3    4    5 -> Positive Indexing"
   ]
  },
  {
   "cell_type": "code",
   "execution_count": 8,
   "id": "f5c91b3b",
   "metadata": {},
   "outputs": [],
   "source": [
    "#-5   -4   -3   -2   -1 -> Negative Indexing"
   ]
  },
  {
   "cell_type": "code",
   "execution_count": 10,
   "id": "68f7b4e0",
   "metadata": {},
   "outputs": [
    {
     "name": "stdout",
     "output_type": "stream",
     "text": [
      "i\n",
      "i\n"
     ]
    }
   ],
   "source": [
    "print(w[-3]) # using negative indexing\n",
    "print(w[2]) # using positive indexing"
   ]
  },
  {
   "cell_type": "code",
   "execution_count": 12,
   "id": "d7924a27",
   "metadata": {},
   "outputs": [],
   "source": [
    "w[2] = 22"
   ]
  },
  {
   "cell_type": "code",
   "execution_count": 13,
   "id": "6d042916",
   "metadata": {},
   "outputs": [
    {
     "name": "stdout",
     "output_type": "stream",
     "text": [
      "['a', 'e', 22, 'o', 'u']\n"
     ]
    }
   ],
   "source": [
    "print(w)"
   ]
  },
  {
   "cell_type": "code",
   "execution_count": 14,
   "id": "ca887c72",
   "metadata": {},
   "outputs": [],
   "source": [
    "w[2] = 'i'"
   ]
  },
  {
   "cell_type": "code",
   "execution_count": 15,
   "id": "e053d381",
   "metadata": {},
   "outputs": [
    {
     "name": "stdout",
     "output_type": "stream",
     "text": [
      "['a', 'e', 'i', 'o', 'u']\n"
     ]
    }
   ],
   "source": [
    "print(w)"
   ]
  },
  {
   "cell_type": "markdown",
   "id": "923c02fa",
   "metadata": {},
   "source": [
    "-----"
   ]
  }
 ],
 "metadata": {
  "kernelspec": {
   "display_name": "Python 3",
   "language": "python",
   "name": "python3"
  },
  "language_info": {
   "codemirror_mode": {
    "name": "ipython",
    "version": 3
   },
   "file_extension": ".py",
   "mimetype": "text/x-python",
   "name": "python",
   "nbconvert_exporter": "python",
   "pygments_lexer": "ipython3",
   "version": "3.8.8"
  }
 },
 "nbformat": 4,
 "nbformat_minor": 5
}
