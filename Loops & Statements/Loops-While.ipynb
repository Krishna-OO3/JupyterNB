{
 "cells": [
  {
   "cell_type": "code",
   "execution_count": 1,
   "id": "b5f1c1c9",
   "metadata": {},
   "outputs": [],
   "source": [
    "# While loop in other programming languages\n",
    "\n",
    "#while(condition){\n",
    "#    executable codes...\n",
    "#}"
   ]
  },
  {
   "cell_type": "code",
   "execution_count": 3,
   "id": "dc6279e2",
   "metadata": {},
   "outputs": [],
   "source": [
    "# how it is structured in python\n",
    "\n",
    "#while condition:\n",
    "    #executable codes...\n",
    "    # the reason how it finds it is inside the loop is the indentation   "
   ]
  },
  {
   "cell_type": "code",
   "execution_count": 4,
   "id": "faa2f55d",
   "metadata": {},
   "outputs": [],
   "source": [
    "while False:\n",
    "    print(\"hello\")"
   ]
  },
  {
   "cell_type": "code",
   "execution_count": 2,
   "id": "2b4f5084",
   "metadata": {},
   "outputs": [
    {
     "name": "stdout",
     "output_type": "stream",
     "text": [
      "0\n",
      "1\n",
      "2\n",
      "3\n",
      "4\n",
      "5\n",
      "6\n",
      "7\n",
      "8\n",
      "9\n",
      "10\n",
      "11\n",
      "12\n",
      "Hello\n"
     ]
    }
   ],
   "source": [
    "a = \"Hello\"\n",
    "counter = 0\n",
    "while counter <= 12:\n",
    "    print(counter)\n",
    "    counter = counter + 1\n",
    "print(a)"
   ]
  }
 ],
 "metadata": {
  "kernelspec": {
   "display_name": "Python 3",
   "language": "python",
   "name": "python3"
  },
  "language_info": {
   "codemirror_mode": {
    "name": "ipython",
    "version": 3
   },
   "file_extension": ".py",
   "mimetype": "text/x-python",
   "name": "python",
   "nbconvert_exporter": "python",
   "pygments_lexer": "ipython3",
   "version": "3.8.8"
  }
 },
 "nbformat": 4,
 "nbformat_minor": 5
}
