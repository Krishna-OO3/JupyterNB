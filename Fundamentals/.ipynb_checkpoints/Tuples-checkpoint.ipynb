{
 "cells": [
  {
   "cell_type": "code",
   "execution_count": 1,
   "id": "d85cff08",
   "metadata": {},
   "outputs": [],
   "source": [
    "# What is Tuple?\n",
    "# Immutable list or sequence of values"
   ]
  },
  {
   "cell_type": "code",
   "execution_count": 2,
   "id": "76519b25",
   "metadata": {},
   "outputs": [
    {
     "name": "stdout",
     "output_type": "stream",
     "text": [
      "(232, 534, 785)\n"
     ]
    }
   ],
   "source": [
    "t1 = (232,534,785)\n",
    "print(t1)"
   ]
  },
  {
   "cell_type": "code",
   "execution_count": 6,
   "id": "af929c06",
   "metadata": {},
   "outputs": [
    {
     "data": {
      "text/plain": [
       "534"
      ]
     },
     "execution_count": 6,
     "metadata": {},
     "output_type": "execute_result"
    }
   ],
   "source": [
    "t1[1] "
   ]
  },
  {
   "cell_type": "code",
   "execution_count": 5,
   "id": "916d1ff3",
   "metadata": {},
   "outputs": [],
   "source": [
    "# Since it is immutable it cannot be modified\n",
    "# more related to programming rather than data analysis"
   ]
  },
  {
   "cell_type": "markdown",
   "id": "69a0b0fb",
   "metadata": {},
   "source": [
    "- - -"
   ]
  }
 ],
 "metadata": {
  "kernelspec": {
   "display_name": "Python 3",
   "language": "python",
   "name": "python3"
  },
  "language_info": {
   "codemirror_mode": {
    "name": "ipython",
    "version": 3
   },
   "file_extension": ".py",
   "mimetype": "text/x-python",
   "name": "python",
   "nbconvert_exporter": "python",
   "pygments_lexer": "ipython3",
   "version": "3.8.8"
  }
 },
 "nbformat": 4,
 "nbformat_minor": 5
}
