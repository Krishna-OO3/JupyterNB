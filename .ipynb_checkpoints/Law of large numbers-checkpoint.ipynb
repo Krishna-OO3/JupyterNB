{
 "cells": [
  {
   "cell_type": "code",
   "execution_count": 1,
   "id": "89ea182f",
   "metadata": {},
   "outputs": [],
   "source": [
    "# Law of large numbers LLN\n",
    "\n",
    "# Example Coin tosses \n",
    "# 10 toss 7/3 -> 70% | 30% \n",
    "# If you got 70 heads and 30 tails out of 100 tosses then you think the coin is rigged\n",
    "# 100: 52/48 in percenage 52% | 48%\n",
    "# 1000: 502/498 in percentage 50.2% | 49.8% \n",
    "# As we increase the sample size the average of the measured value is going to start to converge to the expected value \n",
    "\n",
    "# We need Normal Distribution"
   ]
  },
  {
   "cell_type": "code",
   "execution_count": 3,
   "id": "65971861",
   "metadata": {},
   "outputs": [],
   "source": [
    "# Testing the law of large numbers for N random normally distributed numbers with mean = 0 and stdev = 1\n",
    "# Create a python script that will counnt how many of these numbers fall between -1 and 1 and divide by the total quantity of N\n",
    "# We knows that E(X) = 68.2 %\n",
    "# Check the Mean (Xn)-> E(x) as you rerun your script while increasing N"
   ]
  },
  {
   "cell_type": "code",
   "execution_count": 80,
   "id": "4a70018d",
   "metadata": {},
   "outputs": [
    {
     "name": "stdout",
     "output_type": "stream",
     "text": [
      "0.691\n"
     ]
    }
   ],
   "source": [
    "import numpy as np\n",
    "from numpy.random import randn\n",
    "N = 1000\n",
    "counter = 0\n",
    "for i in randn(N):\n",
    "    if(i<1 and i>-1):\n",
    "        counter = counter + 1\n",
    "answer = counter / N\n",
    "print(answer)"
   ]
  }
 ],
 "metadata": {
  "kernelspec": {
   "display_name": "Python 3",
   "language": "python",
   "name": "python3"
  },
  "language_info": {
   "codemirror_mode": {
    "name": "ipython",
    "version": 3
   },
   "file_extension": ".py",
   "mimetype": "text/x-python",
   "name": "python",
   "nbconvert_exporter": "python",
   "pygments_lexer": "ipython3",
   "version": "3.8.8"
  }
 },
 "nbformat": 4,
 "nbformat_minor": 5
}
